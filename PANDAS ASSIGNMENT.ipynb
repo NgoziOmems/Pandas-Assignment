{
 "cells": [
  {
   "cell_type": "markdown",
   "id": "fe516208",
   "metadata": {},
   "source": [
    "#                                          PANDAS ASSIGNMENT"
   ]
  },
  {
   "cell_type": "code",
   "execution_count": 91,
   "id": "6c4205f9",
   "metadata": {},
   "outputs": [],
   "source": [
    "import pandas as pd"
   ]
  },
  {
   "cell_type": "code",
   "execution_count": 92,
   "id": "25c693a1",
   "metadata": {},
   "outputs": [],
   "source": [
    "#importing the csv document and assigning the dataset to a variable named Sales_data"
   ]
  },
  {
   "cell_type": "code",
   "execution_count": 93,
   "id": "5699602a",
   "metadata": {},
   "outputs": [],
   "source": [
    "Sales_data = pd.read_csv(r\"C:\\Users\\HP\\Downloads\\messy_data.csv\")"
   ]
  },
  {
   "cell_type": "code",
   "execution_count": 94,
   "id": "12d34317",
   "metadata": {},
   "outputs": [
    {
     "data": {
      "text/html": [
       "<div>\n",
       "<style scoped>\n",
       "    .dataframe tbody tr th:only-of-type {\n",
       "        vertical-align: middle;\n",
       "    }\n",
       "\n",
       "    .dataframe tbody tr th {\n",
       "        vertical-align: top;\n",
       "    }\n",
       "\n",
       "    .dataframe thead th {\n",
       "        text-align: right;\n",
       "    }\n",
       "</style>\n",
       "<table border=\"1\" class=\"dataframe\">\n",
       "  <thead>\n",
       "    <tr style=\"text-align: right;\">\n",
       "      <th></th>\n",
       "      <th>TrnsnID</th>\n",
       "      <th>Data</th>\n",
       "      <th>CusmrID</th>\n",
       "      <th>ProdtID</th>\n",
       "      <th>ProdtName</th>\n",
       "      <th>Qutity</th>\n",
       "      <th>Prize</th>\n",
       "      <th>TtlSales</th>\n",
       "      <th>PaymentType</th>\n",
       "      <th>CusterAge</th>\n",
       "    </tr>\n",
       "  </thead>\n",
       "  <tbody>\n",
       "    <tr>\n",
       "      <th>0</th>\n",
       "      <td>7402</td>\n",
       "      <td>03/17/2026</td>\n",
       "      <td>991</td>\n",
       "      <td>1045</td>\n",
       "      <td>Boo E</td>\n",
       "      <td>9</td>\n",
       "      <td>167.72</td>\n",
       "      <td>2935.06</td>\n",
       "      <td>NaN</td>\n",
       "      <td>87</td>\n",
       "    </tr>\n",
       "    <tr>\n",
       "      <th>1</th>\n",
       "      <td>5835</td>\n",
       "      <td>26-01-2035</td>\n",
       "      <td>741</td>\n",
       "      <td>1040</td>\n",
       "      <td>Book J</td>\n",
       "      <td>18</td>\n",
       "      <td>193.27</td>\n",
       "      <td>4386.52</td>\n",
       "      <td>debit card</td>\n",
       "      <td>69</td>\n",
       "    </tr>\n",
       "    <tr>\n",
       "      <th>2</th>\n",
       "      <td>2123</td>\n",
       "      <td>05/26/2035</td>\n",
       "      <td>933</td>\n",
       "      <td>1062</td>\n",
       "      <td>Bok N</td>\n",
       "      <td>5</td>\n",
       "      <td>126.39</td>\n",
       "      <td>1948.46</td>\n",
       "      <td>Cash</td>\n",
       "      <td>15</td>\n",
       "    </tr>\n",
       "    <tr>\n",
       "      <th>3</th>\n",
       "      <td>8789</td>\n",
       "      <td>28-02-2036</td>\n",
       "      <td>641</td>\n",
       "      <td>1060</td>\n",
       "      <td>Book I</td>\n",
       "      <td>6</td>\n",
       "      <td>66.98</td>\n",
       "      <td>1757.26</td>\n",
       "      <td>Cash</td>\n",
       "      <td>22</td>\n",
       "    </tr>\n",
       "    <tr>\n",
       "      <th>4</th>\n",
       "      <td>305</td>\n",
       "      <td>19-04-2023</td>\n",
       "      <td>123</td>\n",
       "      <td>1058</td>\n",
       "      <td>Book B</td>\n",
       "      <td>15</td>\n",
       "      <td>33.63</td>\n",
       "      <td>2578.19</td>\n",
       "      <td>Cash</td>\n",
       "      <td>-1</td>\n",
       "    </tr>\n",
       "    <tr>\n",
       "      <th>...</th>\n",
       "      <td>...</td>\n",
       "      <td>...</td>\n",
       "      <td>...</td>\n",
       "      <td>...</td>\n",
       "      <td>...</td>\n",
       "      <td>...</td>\n",
       "      <td>...</td>\n",
       "      <td>...</td>\n",
       "      <td>...</td>\n",
       "      <td>...</td>\n",
       "    </tr>\n",
       "    <tr>\n",
       "      <th>10095</th>\n",
       "      <td>5735</td>\n",
       "      <td>04/03/2027</td>\n",
       "      <td>52</td>\n",
       "      <td>1066</td>\n",
       "      <td>Book G</td>\n",
       "      <td>1</td>\n",
       "      <td>191.41</td>\n",
       "      <td>2788.25</td>\n",
       "      <td>Credit Card</td>\n",
       "      <td>91</td>\n",
       "    </tr>\n",
       "    <tr>\n",
       "      <th>10096</th>\n",
       "      <td>5192</td>\n",
       "      <td>08/16/2025</td>\n",
       "      <td>334</td>\n",
       "      <td>1093</td>\n",
       "      <td>Bok N</td>\n",
       "      <td>-2</td>\n",
       "      <td>186.16</td>\n",
       "      <td>1187.53</td>\n",
       "      <td>paypal</td>\n",
       "      <td>50</td>\n",
       "    </tr>\n",
       "    <tr>\n",
       "      <th>10097</th>\n",
       "      <td>5391</td>\n",
       "      <td>06/18/2026</td>\n",
       "      <td>657</td>\n",
       "      <td>1047</td>\n",
       "      <td>Bookk H</td>\n",
       "      <td>5</td>\n",
       "      <td>84.38</td>\n",
       "      <td>2119.76</td>\n",
       "      <td>debit card</td>\n",
       "      <td>63</td>\n",
       "    </tr>\n",
       "    <tr>\n",
       "      <th>10098</th>\n",
       "      <td>861</td>\n",
       "      <td>04/08/2034</td>\n",
       "      <td>579</td>\n",
       "      <td>1014</td>\n",
       "      <td>Bok N</td>\n",
       "      <td>19</td>\n",
       "      <td>137.58</td>\n",
       "      <td>1708.87</td>\n",
       "      <td>Debit</td>\n",
       "      <td>-7</td>\n",
       "    </tr>\n",
       "    <tr>\n",
       "      <th>10099</th>\n",
       "      <td>7271</td>\n",
       "      <td>26-04-2029</td>\n",
       "      <td>153</td>\n",
       "      <td>1052</td>\n",
       "      <td>Book T</td>\n",
       "      <td>10</td>\n",
       "      <td>159.98</td>\n",
       "      <td>2743.67</td>\n",
       "      <td>debit card</td>\n",
       "      <td>77</td>\n",
       "    </tr>\n",
       "  </tbody>\n",
       "</table>\n",
       "<p>10100 rows × 10 columns</p>\n",
       "</div>"
      ],
      "text/plain": [
       "       TrnsnID        Data  CusmrID  ProdtID ProdtName  Qutity   Prize  \\\n",
       "0         7402  03/17/2026      991     1045     Boo E       9  167.72   \n",
       "1         5835  26-01-2035      741     1040    Book J      18  193.27   \n",
       "2         2123  05/26/2035      933     1062     Bok N       5  126.39   \n",
       "3         8789  28-02-2036      641     1060    Book I       6   66.98   \n",
       "4          305  19-04-2023      123     1058    Book B      15   33.63   \n",
       "...        ...         ...      ...      ...       ...     ...     ...   \n",
       "10095     5735  04/03/2027       52     1066    Book G       1  191.41   \n",
       "10096     5192  08/16/2025      334     1093     Bok N      -2  186.16   \n",
       "10097     5391  06/18/2026      657     1047   Bookk H       5   84.38   \n",
       "10098      861  04/08/2034      579     1014     Bok N      19  137.58   \n",
       "10099     7271  26-04-2029      153     1052    Book T      10  159.98   \n",
       "\n",
       "       TtlSales  PaymentType  CusterAge  \n",
       "0       2935.06          NaN         87  \n",
       "1       4386.52   debit card         69  \n",
       "2       1948.46         Cash         15  \n",
       "3       1757.26         Cash         22  \n",
       "4       2578.19         Cash         -1  \n",
       "...         ...          ...        ...  \n",
       "10095   2788.25  Credit Card         91  \n",
       "10096   1187.53       paypal         50  \n",
       "10097   2119.76   debit card         63  \n",
       "10098   1708.87        Debit         -7  \n",
       "10099   2743.67   debit card         77  \n",
       "\n",
       "[10100 rows x 10 columns]"
      ]
     },
     "execution_count": 94,
     "metadata": {},
     "output_type": "execute_result"
    }
   ],
   "source": [
    "Sales_data"
   ]
  },
  {
   "cell_type": "code",
   "execution_count": 95,
   "id": "605a9a2d",
   "metadata": {},
   "outputs": [
    {
     "name": "stdout",
     "output_type": "stream",
     "text": [
      "<class 'pandas.core.frame.DataFrame'>\n",
      "RangeIndex: 10100 entries, 0 to 10099\n",
      "Data columns (total 10 columns):\n",
      " #   Column       Non-Null Count  Dtype  \n",
      "---  ------       --------------  -----  \n",
      " 0   TrnsnID      10100 non-null  int64  \n",
      " 1   Data         10100 non-null  object \n",
      " 2   CusmrID      10100 non-null  int64  \n",
      " 3   ProdtID      10100 non-null  int64  \n",
      " 4   ProdtName    9098 non-null   object \n",
      " 5   Qutity       10100 non-null  int64  \n",
      " 6   Prize        10100 non-null  float64\n",
      " 7   TtlSales     10100 non-null  float64\n",
      " 8   PaymentType  8645 non-null   object \n",
      " 9   CusterAge    10100 non-null  int64  \n",
      "dtypes: float64(2), int64(5), object(3)\n",
      "memory usage: 789.2+ KB\n"
     ]
    }
   ],
   "source": [
    "Sales_data.info()"
   ]
  },
  {
   "cell_type": "code",
   "execution_count": 107,
   "id": "488a30de",
   "metadata": {},
   "outputs": [],
   "source": [
    "#To rename the columns"
   ]
  },
  {
   "cell_type": "code",
   "execution_count": 108,
   "id": "bc3d361c",
   "metadata": {},
   "outputs": [],
   "source": [
    "Sales_data.rename(columns={'TrnsnID':'TransactionID'}, inplace = True)"
   ]
  },
  {
   "cell_type": "code",
   "execution_count": 109,
   "id": "3361cb1a",
   "metadata": {},
   "outputs": [],
   "source": [
    "Sales_data.rename(columns={'Data':'Date'}, inplace = True)"
   ]
  },
  {
   "cell_type": "code",
   "execution_count": 110,
   "id": "2cc51203",
   "metadata": {},
   "outputs": [],
   "source": [
    "Sales_data.rename(columns={'CusmrID':'CustomerID'}, inplace = True)"
   ]
  },
  {
   "cell_type": "code",
   "execution_count": 111,
   "id": "a975dfdd",
   "metadata": {},
   "outputs": [],
   "source": [
    "Sales_data.rename(columns={'ProdtID':'ProductID'}, inplace = True)"
   ]
  },
  {
   "cell_type": "code",
   "execution_count": 112,
   "id": "d196aed5",
   "metadata": {},
   "outputs": [],
   "source": [
    "Sales_data.rename(columns={'ProdtName':'ProductName'}, inplace = True)"
   ]
  },
  {
   "cell_type": "code",
   "execution_count": 113,
   "id": "b4c75513",
   "metadata": {},
   "outputs": [],
   "source": [
    "Sales_data.rename(columns={'Qutity':\"Quantity\"}, inplace = True)"
   ]
  },
  {
   "cell_type": "code",
   "execution_count": 114,
   "id": "9c726ab8",
   "metadata": {},
   "outputs": [],
   "source": [
    "Sales_data.rename(columns={'Prize':'Price'}, inplace = True)"
   ]
  },
  {
   "cell_type": "code",
   "execution_count": 115,
   "id": "70a945de",
   "metadata": {},
   "outputs": [],
   "source": [
    "Sales_data.rename(columns={'TtlSales':'TotalSales'}, inplace = True)"
   ]
  },
  {
   "cell_type": "code",
   "execution_count": 116,
   "id": "c47bf3a3",
   "metadata": {},
   "outputs": [],
   "source": [
    "Sales_data.rename(columns={'TrnsnID':'TransactionID'}, inplace = True)"
   ]
  },
  {
   "cell_type": "code",
   "execution_count": 117,
   "id": "d31bb9a4",
   "metadata": {},
   "outputs": [],
   "source": [
    "Sales_data.rename(columns={'CusterAge':'CustomerAge'}, inplace = True)"
   ]
  },
  {
   "cell_type": "code",
   "execution_count": 118,
   "id": "f0b27c62",
   "metadata": {},
   "outputs": [
    {
     "data": {
      "text/html": [
       "<div>\n",
       "<style scoped>\n",
       "    .dataframe tbody tr th:only-of-type {\n",
       "        vertical-align: middle;\n",
       "    }\n",
       "\n",
       "    .dataframe tbody tr th {\n",
       "        vertical-align: top;\n",
       "    }\n",
       "\n",
       "    .dataframe thead th {\n",
       "        text-align: right;\n",
       "    }\n",
       "</style>\n",
       "<table border=\"1\" class=\"dataframe\">\n",
       "  <thead>\n",
       "    <tr style=\"text-align: right;\">\n",
       "      <th></th>\n",
       "      <th>TransactionID</th>\n",
       "      <th>Date</th>\n",
       "      <th>CustomerID</th>\n",
       "      <th>ProductID</th>\n",
       "      <th>ProductName</th>\n",
       "      <th>Quantity</th>\n",
       "      <th>Price</th>\n",
       "      <th>TotalSales</th>\n",
       "      <th>PaymentType</th>\n",
       "      <th>CustomerAge</th>\n",
       "    </tr>\n",
       "  </thead>\n",
       "  <tbody>\n",
       "    <tr>\n",
       "      <th>0</th>\n",
       "      <td>7402</td>\n",
       "      <td>03/17/2026</td>\n",
       "      <td>991</td>\n",
       "      <td>1045</td>\n",
       "      <td>Boo E</td>\n",
       "      <td>9</td>\n",
       "      <td>167.72</td>\n",
       "      <td>2935.06</td>\n",
       "      <td>NaN</td>\n",
       "      <td>87</td>\n",
       "    </tr>\n",
       "    <tr>\n",
       "      <th>1</th>\n",
       "      <td>5835</td>\n",
       "      <td>26-01-2035</td>\n",
       "      <td>741</td>\n",
       "      <td>1040</td>\n",
       "      <td>Book J</td>\n",
       "      <td>18</td>\n",
       "      <td>193.27</td>\n",
       "      <td>4386.52</td>\n",
       "      <td>debit card</td>\n",
       "      <td>69</td>\n",
       "    </tr>\n",
       "    <tr>\n",
       "      <th>2</th>\n",
       "      <td>2123</td>\n",
       "      <td>05/26/2035</td>\n",
       "      <td>933</td>\n",
       "      <td>1062</td>\n",
       "      <td>Bok N</td>\n",
       "      <td>5</td>\n",
       "      <td>126.39</td>\n",
       "      <td>1948.46</td>\n",
       "      <td>Cash</td>\n",
       "      <td>15</td>\n",
       "    </tr>\n",
       "    <tr>\n",
       "      <th>3</th>\n",
       "      <td>8789</td>\n",
       "      <td>28-02-2036</td>\n",
       "      <td>641</td>\n",
       "      <td>1060</td>\n",
       "      <td>Book I</td>\n",
       "      <td>6</td>\n",
       "      <td>66.98</td>\n",
       "      <td>1757.26</td>\n",
       "      <td>Cash</td>\n",
       "      <td>22</td>\n",
       "    </tr>\n",
       "    <tr>\n",
       "      <th>4</th>\n",
       "      <td>305</td>\n",
       "      <td>19-04-2023</td>\n",
       "      <td>123</td>\n",
       "      <td>1058</td>\n",
       "      <td>Book B</td>\n",
       "      <td>15</td>\n",
       "      <td>33.63</td>\n",
       "      <td>2578.19</td>\n",
       "      <td>Cash</td>\n",
       "      <td>-1</td>\n",
       "    </tr>\n",
       "    <tr>\n",
       "      <th>...</th>\n",
       "      <td>...</td>\n",
       "      <td>...</td>\n",
       "      <td>...</td>\n",
       "      <td>...</td>\n",
       "      <td>...</td>\n",
       "      <td>...</td>\n",
       "      <td>...</td>\n",
       "      <td>...</td>\n",
       "      <td>...</td>\n",
       "      <td>...</td>\n",
       "    </tr>\n",
       "    <tr>\n",
       "      <th>10095</th>\n",
       "      <td>5735</td>\n",
       "      <td>04/03/2027</td>\n",
       "      <td>52</td>\n",
       "      <td>1066</td>\n",
       "      <td>Book G</td>\n",
       "      <td>1</td>\n",
       "      <td>191.41</td>\n",
       "      <td>2788.25</td>\n",
       "      <td>Credit Card</td>\n",
       "      <td>91</td>\n",
       "    </tr>\n",
       "    <tr>\n",
       "      <th>10096</th>\n",
       "      <td>5192</td>\n",
       "      <td>08/16/2025</td>\n",
       "      <td>334</td>\n",
       "      <td>1093</td>\n",
       "      <td>Bok N</td>\n",
       "      <td>-2</td>\n",
       "      <td>186.16</td>\n",
       "      <td>1187.53</td>\n",
       "      <td>paypal</td>\n",
       "      <td>50</td>\n",
       "    </tr>\n",
       "    <tr>\n",
       "      <th>10097</th>\n",
       "      <td>5391</td>\n",
       "      <td>06/18/2026</td>\n",
       "      <td>657</td>\n",
       "      <td>1047</td>\n",
       "      <td>Bookk H</td>\n",
       "      <td>5</td>\n",
       "      <td>84.38</td>\n",
       "      <td>2119.76</td>\n",
       "      <td>debit card</td>\n",
       "      <td>63</td>\n",
       "    </tr>\n",
       "    <tr>\n",
       "      <th>10098</th>\n",
       "      <td>861</td>\n",
       "      <td>04/08/2034</td>\n",
       "      <td>579</td>\n",
       "      <td>1014</td>\n",
       "      <td>Bok N</td>\n",
       "      <td>19</td>\n",
       "      <td>137.58</td>\n",
       "      <td>1708.87</td>\n",
       "      <td>Debit</td>\n",
       "      <td>-7</td>\n",
       "    </tr>\n",
       "    <tr>\n",
       "      <th>10099</th>\n",
       "      <td>7271</td>\n",
       "      <td>26-04-2029</td>\n",
       "      <td>153</td>\n",
       "      <td>1052</td>\n",
       "      <td>Book T</td>\n",
       "      <td>10</td>\n",
       "      <td>159.98</td>\n",
       "      <td>2743.67</td>\n",
       "      <td>debit card</td>\n",
       "      <td>77</td>\n",
       "    </tr>\n",
       "  </tbody>\n",
       "</table>\n",
       "<p>10100 rows × 10 columns</p>\n",
       "</div>"
      ],
      "text/plain": [
       "       TransactionID        Date  CustomerID  ProductID ProductName  Quantity  \\\n",
       "0               7402  03/17/2026         991       1045       Boo E         9   \n",
       "1               5835  26-01-2035         741       1040      Book J        18   \n",
       "2               2123  05/26/2035         933       1062       Bok N         5   \n",
       "3               8789  28-02-2036         641       1060      Book I         6   \n",
       "4                305  19-04-2023         123       1058      Book B        15   \n",
       "...              ...         ...         ...        ...         ...       ...   \n",
       "10095           5735  04/03/2027          52       1066      Book G         1   \n",
       "10096           5192  08/16/2025         334       1093       Bok N        -2   \n",
       "10097           5391  06/18/2026         657       1047     Bookk H         5   \n",
       "10098            861  04/08/2034         579       1014       Bok N        19   \n",
       "10099           7271  26-04-2029         153       1052      Book T        10   \n",
       "\n",
       "        Price  TotalSales  PaymentType  CustomerAge  \n",
       "0      167.72     2935.06          NaN           87  \n",
       "1      193.27     4386.52   debit card           69  \n",
       "2      126.39     1948.46         Cash           15  \n",
       "3       66.98     1757.26         Cash           22  \n",
       "4       33.63     2578.19         Cash           -1  \n",
       "...       ...         ...          ...          ...  \n",
       "10095  191.41     2788.25  Credit Card           91  \n",
       "10096  186.16     1187.53       paypal           50  \n",
       "10097   84.38     2119.76   debit card           63  \n",
       "10098  137.58     1708.87        Debit           -7  \n",
       "10099  159.98     2743.67   debit card           77  \n",
       "\n",
       "[10100 rows x 10 columns]"
      ]
     },
     "execution_count": 118,
     "metadata": {},
     "output_type": "execute_result"
    }
   ],
   "source": [
    "Sales_data"
   ]
  },
  {
   "cell_type": "code",
   "execution_count": 120,
   "id": "d7d0df19",
   "metadata": {},
   "outputs": [],
   "source": [
    "#To convert the Date to datetime"
   ]
  },
  {
   "cell_type": "code",
   "execution_count": 123,
   "id": "6c8e4af5",
   "metadata": {},
   "outputs": [],
   "source": [
    "Sales_data.Date = pd.to_datetime(Sales_data.Date, format = 'mixed')"
   ]
  },
  {
   "cell_type": "code",
   "execution_count": 124,
   "id": "b0adb33d",
   "metadata": {},
   "outputs": [
    {
     "data": {
      "text/html": [
       "<div>\n",
       "<style scoped>\n",
       "    .dataframe tbody tr th:only-of-type {\n",
       "        vertical-align: middle;\n",
       "    }\n",
       "\n",
       "    .dataframe tbody tr th {\n",
       "        vertical-align: top;\n",
       "    }\n",
       "\n",
       "    .dataframe thead th {\n",
       "        text-align: right;\n",
       "    }\n",
       "</style>\n",
       "<table border=\"1\" class=\"dataframe\">\n",
       "  <thead>\n",
       "    <tr style=\"text-align: right;\">\n",
       "      <th></th>\n",
       "      <th>TransactionID</th>\n",
       "      <th>Date</th>\n",
       "      <th>CustomerID</th>\n",
       "      <th>ProductID</th>\n",
       "      <th>ProductName</th>\n",
       "      <th>Quantity</th>\n",
       "      <th>Price</th>\n",
       "      <th>TotalSales</th>\n",
       "      <th>PaymentType</th>\n",
       "      <th>CustomerAge</th>\n",
       "    </tr>\n",
       "  </thead>\n",
       "  <tbody>\n",
       "    <tr>\n",
       "      <th>0</th>\n",
       "      <td>7402</td>\n",
       "      <td>2026-03-17</td>\n",
       "      <td>991</td>\n",
       "      <td>1045</td>\n",
       "      <td>Boo E</td>\n",
       "      <td>9</td>\n",
       "      <td>167.72</td>\n",
       "      <td>2935.06</td>\n",
       "      <td>NaN</td>\n",
       "      <td>87</td>\n",
       "    </tr>\n",
       "    <tr>\n",
       "      <th>1</th>\n",
       "      <td>5835</td>\n",
       "      <td>2035-01-26</td>\n",
       "      <td>741</td>\n",
       "      <td>1040</td>\n",
       "      <td>Book J</td>\n",
       "      <td>18</td>\n",
       "      <td>193.27</td>\n",
       "      <td>4386.52</td>\n",
       "      <td>debit card</td>\n",
       "      <td>69</td>\n",
       "    </tr>\n",
       "    <tr>\n",
       "      <th>2</th>\n",
       "      <td>2123</td>\n",
       "      <td>2035-05-26</td>\n",
       "      <td>933</td>\n",
       "      <td>1062</td>\n",
       "      <td>Bok N</td>\n",
       "      <td>5</td>\n",
       "      <td>126.39</td>\n",
       "      <td>1948.46</td>\n",
       "      <td>Cash</td>\n",
       "      <td>15</td>\n",
       "    </tr>\n",
       "    <tr>\n",
       "      <th>3</th>\n",
       "      <td>8789</td>\n",
       "      <td>2036-02-28</td>\n",
       "      <td>641</td>\n",
       "      <td>1060</td>\n",
       "      <td>Book I</td>\n",
       "      <td>6</td>\n",
       "      <td>66.98</td>\n",
       "      <td>1757.26</td>\n",
       "      <td>Cash</td>\n",
       "      <td>22</td>\n",
       "    </tr>\n",
       "    <tr>\n",
       "      <th>4</th>\n",
       "      <td>305</td>\n",
       "      <td>2023-04-19</td>\n",
       "      <td>123</td>\n",
       "      <td>1058</td>\n",
       "      <td>Book B</td>\n",
       "      <td>15</td>\n",
       "      <td>33.63</td>\n",
       "      <td>2578.19</td>\n",
       "      <td>Cash</td>\n",
       "      <td>-1</td>\n",
       "    </tr>\n",
       "    <tr>\n",
       "      <th>...</th>\n",
       "      <td>...</td>\n",
       "      <td>...</td>\n",
       "      <td>...</td>\n",
       "      <td>...</td>\n",
       "      <td>...</td>\n",
       "      <td>...</td>\n",
       "      <td>...</td>\n",
       "      <td>...</td>\n",
       "      <td>...</td>\n",
       "      <td>...</td>\n",
       "    </tr>\n",
       "    <tr>\n",
       "      <th>10095</th>\n",
       "      <td>5735</td>\n",
       "      <td>2027-04-03</td>\n",
       "      <td>52</td>\n",
       "      <td>1066</td>\n",
       "      <td>Book G</td>\n",
       "      <td>1</td>\n",
       "      <td>191.41</td>\n",
       "      <td>2788.25</td>\n",
       "      <td>Credit Card</td>\n",
       "      <td>91</td>\n",
       "    </tr>\n",
       "    <tr>\n",
       "      <th>10096</th>\n",
       "      <td>5192</td>\n",
       "      <td>2025-08-16</td>\n",
       "      <td>334</td>\n",
       "      <td>1093</td>\n",
       "      <td>Bok N</td>\n",
       "      <td>-2</td>\n",
       "      <td>186.16</td>\n",
       "      <td>1187.53</td>\n",
       "      <td>paypal</td>\n",
       "      <td>50</td>\n",
       "    </tr>\n",
       "    <tr>\n",
       "      <th>10097</th>\n",
       "      <td>5391</td>\n",
       "      <td>2026-06-18</td>\n",
       "      <td>657</td>\n",
       "      <td>1047</td>\n",
       "      <td>Bookk H</td>\n",
       "      <td>5</td>\n",
       "      <td>84.38</td>\n",
       "      <td>2119.76</td>\n",
       "      <td>debit card</td>\n",
       "      <td>63</td>\n",
       "    </tr>\n",
       "    <tr>\n",
       "      <th>10098</th>\n",
       "      <td>861</td>\n",
       "      <td>2034-04-08</td>\n",
       "      <td>579</td>\n",
       "      <td>1014</td>\n",
       "      <td>Bok N</td>\n",
       "      <td>19</td>\n",
       "      <td>137.58</td>\n",
       "      <td>1708.87</td>\n",
       "      <td>Debit</td>\n",
       "      <td>-7</td>\n",
       "    </tr>\n",
       "    <tr>\n",
       "      <th>10099</th>\n",
       "      <td>7271</td>\n",
       "      <td>2029-04-26</td>\n",
       "      <td>153</td>\n",
       "      <td>1052</td>\n",
       "      <td>Book T</td>\n",
       "      <td>10</td>\n",
       "      <td>159.98</td>\n",
       "      <td>2743.67</td>\n",
       "      <td>debit card</td>\n",
       "      <td>77</td>\n",
       "    </tr>\n",
       "  </tbody>\n",
       "</table>\n",
       "<p>10100 rows × 10 columns</p>\n",
       "</div>"
      ],
      "text/plain": [
       "       TransactionID       Date  CustomerID  ProductID ProductName  Quantity  \\\n",
       "0               7402 2026-03-17         991       1045       Boo E         9   \n",
       "1               5835 2035-01-26         741       1040      Book J        18   \n",
       "2               2123 2035-05-26         933       1062       Bok N         5   \n",
       "3               8789 2036-02-28         641       1060      Book I         6   \n",
       "4                305 2023-04-19         123       1058      Book B        15   \n",
       "...              ...        ...         ...        ...         ...       ...   \n",
       "10095           5735 2027-04-03          52       1066      Book G         1   \n",
       "10096           5192 2025-08-16         334       1093       Bok N        -2   \n",
       "10097           5391 2026-06-18         657       1047     Bookk H         5   \n",
       "10098            861 2034-04-08         579       1014       Bok N        19   \n",
       "10099           7271 2029-04-26         153       1052      Book T        10   \n",
       "\n",
       "        Price  TotalSales  PaymentType  CustomerAge  \n",
       "0      167.72     2935.06          NaN           87  \n",
       "1      193.27     4386.52   debit card           69  \n",
       "2      126.39     1948.46         Cash           15  \n",
       "3       66.98     1757.26         Cash           22  \n",
       "4       33.63     2578.19         Cash           -1  \n",
       "...       ...         ...          ...          ...  \n",
       "10095  191.41     2788.25  Credit Card           91  \n",
       "10096  186.16     1187.53       paypal           50  \n",
       "10097   84.38     2119.76   debit card           63  \n",
       "10098  137.58     1708.87        Debit           -7  \n",
       "10099  159.98     2743.67   debit card           77  \n",
       "\n",
       "[10100 rows x 10 columns]"
      ]
     },
     "execution_count": 124,
     "metadata": {},
     "output_type": "execute_result"
    }
   ],
   "source": [
    "Sales_data "
   ]
  },
  {
   "cell_type": "code",
   "execution_count": 126,
   "id": "cbe60c77",
   "metadata": {},
   "outputs": [
    {
     "name": "stdout",
     "output_type": "stream",
     "text": [
      "<class 'pandas.core.frame.DataFrame'>\n",
      "RangeIndex: 10100 entries, 0 to 10099\n",
      "Data columns (total 10 columns):\n",
      " #   Column         Non-Null Count  Dtype         \n",
      "---  ------         --------------  -----         \n",
      " 0   TransactionID  10100 non-null  int64         \n",
      " 1   Date           10100 non-null  datetime64[ns]\n",
      " 2   CustomerID     10100 non-null  int64         \n",
      " 3   ProductID      10100 non-null  int64         \n",
      " 4   ProductName    9098 non-null   object        \n",
      " 5   Quantity       10100 non-null  int64         \n",
      " 6   Price          10100 non-null  float64       \n",
      " 7   TotalSales     10100 non-null  float64       \n",
      " 8   PaymentType    8645 non-null   object        \n",
      " 9   CustomerAge    10100 non-null  int64         \n",
      "dtypes: datetime64[ns](1), float64(2), int64(5), object(2)\n",
      "memory usage: 789.2+ KB\n"
     ]
    }
   ],
   "source": [
    "Sales_data.info()"
   ]
  },
  {
   "cell_type": "code",
   "execution_count": 129,
   "id": "bc5208e2",
   "metadata": {},
   "outputs": [],
   "source": [
    "#To check for null or missing values"
   ]
  },
  {
   "cell_type": "code",
   "execution_count": 130,
   "id": "1de99d2a",
   "metadata": {},
   "outputs": [
    {
     "data": {
      "text/plain": [
       "TransactionID       0\n",
       "Date                0\n",
       "CustomerID          0\n",
       "ProductID           0\n",
       "ProductName      1002\n",
       "Quantity            0\n",
       "Price               0\n",
       "TotalSales          0\n",
       "PaymentType      1455\n",
       "CustomerAge         0\n",
       "dtype: int64"
      ]
     },
     "execution_count": 130,
     "metadata": {},
     "output_type": "execute_result"
    }
   ],
   "source": [
    "Sales_data.isnull().sum()"
   ]
  },
  {
   "cell_type": "code",
   "execution_count": 131,
   "id": "254865af",
   "metadata": {},
   "outputs": [],
   "source": [
    "#To fill in missing values using backward fill"
   ]
  },
  {
   "cell_type": "code",
   "execution_count": 134,
   "id": "74ab156a",
   "metadata": {},
   "outputs": [],
   "source": [
    "Sales_data.fillna(method= 'bfill', inplace=True)"
   ]
  },
  {
   "cell_type": "code",
   "execution_count": 135,
   "id": "0d282ffc",
   "metadata": {},
   "outputs": [
    {
     "data": {
      "text/plain": [
       "TransactionID    0\n",
       "Date             0\n",
       "CustomerID       0\n",
       "ProductID        0\n",
       "ProductName      0\n",
       "Quantity         0\n",
       "Price            0\n",
       "TotalSales       0\n",
       "PaymentType      0\n",
       "CustomerAge      0\n",
       "dtype: int64"
      ]
     },
     "execution_count": 135,
     "metadata": {},
     "output_type": "execute_result"
    }
   ],
   "source": [
    "Sales_data.isnull().sum()"
   ]
  },
  {
   "cell_type": "code",
   "execution_count": 136,
   "id": "b6faba41",
   "metadata": {},
   "outputs": [],
   "source": [
    "#There are no more missing values in our Sales.data table"
   ]
  },
  {
   "cell_type": "code",
   "execution_count": 137,
   "id": "fec425cd",
   "metadata": {},
   "outputs": [
    {
     "data": {
      "text/html": [
       "<div>\n",
       "<style scoped>\n",
       "    .dataframe tbody tr th:only-of-type {\n",
       "        vertical-align: middle;\n",
       "    }\n",
       "\n",
       "    .dataframe tbody tr th {\n",
       "        vertical-align: top;\n",
       "    }\n",
       "\n",
       "    .dataframe thead th {\n",
       "        text-align: right;\n",
       "    }\n",
       "</style>\n",
       "<table border=\"1\" class=\"dataframe\">\n",
       "  <thead>\n",
       "    <tr style=\"text-align: right;\">\n",
       "      <th></th>\n",
       "      <th>TransactionID</th>\n",
       "      <th>Date</th>\n",
       "      <th>CustomerID</th>\n",
       "      <th>ProductID</th>\n",
       "      <th>ProductName</th>\n",
       "      <th>Quantity</th>\n",
       "      <th>Price</th>\n",
       "      <th>TotalSales</th>\n",
       "      <th>PaymentType</th>\n",
       "      <th>CustomerAge</th>\n",
       "    </tr>\n",
       "  </thead>\n",
       "  <tbody>\n",
       "    <tr>\n",
       "      <th>0</th>\n",
       "      <td>7402</td>\n",
       "      <td>2026-03-17</td>\n",
       "      <td>991</td>\n",
       "      <td>1045</td>\n",
       "      <td>Boo E</td>\n",
       "      <td>9</td>\n",
       "      <td>167.72</td>\n",
       "      <td>2935.06</td>\n",
       "      <td>debit card</td>\n",
       "      <td>87</td>\n",
       "    </tr>\n",
       "    <tr>\n",
       "      <th>1</th>\n",
       "      <td>5835</td>\n",
       "      <td>2035-01-26</td>\n",
       "      <td>741</td>\n",
       "      <td>1040</td>\n",
       "      <td>Book J</td>\n",
       "      <td>18</td>\n",
       "      <td>193.27</td>\n",
       "      <td>4386.52</td>\n",
       "      <td>debit card</td>\n",
       "      <td>69</td>\n",
       "    </tr>\n",
       "    <tr>\n",
       "      <th>2</th>\n",
       "      <td>2123</td>\n",
       "      <td>2035-05-26</td>\n",
       "      <td>933</td>\n",
       "      <td>1062</td>\n",
       "      <td>Bok N</td>\n",
       "      <td>5</td>\n",
       "      <td>126.39</td>\n",
       "      <td>1948.46</td>\n",
       "      <td>Cash</td>\n",
       "      <td>15</td>\n",
       "    </tr>\n",
       "    <tr>\n",
       "      <th>3</th>\n",
       "      <td>8789</td>\n",
       "      <td>2036-02-28</td>\n",
       "      <td>641</td>\n",
       "      <td>1060</td>\n",
       "      <td>Book I</td>\n",
       "      <td>6</td>\n",
       "      <td>66.98</td>\n",
       "      <td>1757.26</td>\n",
       "      <td>Cash</td>\n",
       "      <td>22</td>\n",
       "    </tr>\n",
       "  </tbody>\n",
       "</table>\n",
       "</div>"
      ],
      "text/plain": [
       "   TransactionID       Date  CustomerID  ProductID ProductName  Quantity  \\\n",
       "0           7402 2026-03-17         991       1045       Boo E         9   \n",
       "1           5835 2035-01-26         741       1040      Book J        18   \n",
       "2           2123 2035-05-26         933       1062       Bok N         5   \n",
       "3           8789 2036-02-28         641       1060      Book I         6   \n",
       "\n",
       "    Price  TotalSales PaymentType  CustomerAge  \n",
       "0  167.72     2935.06  debit card           87  \n",
       "1  193.27     4386.52  debit card           69  \n",
       "2  126.39     1948.46        Cash           15  \n",
       "3   66.98     1757.26        Cash           22  "
      ]
     },
     "execution_count": 137,
     "metadata": {},
     "output_type": "execute_result"
    }
   ],
   "source": [
    "Sales_data.head(4)"
   ]
  },
  {
   "cell_type": "code",
   "execution_count": 161,
   "id": "d4b62650",
   "metadata": {},
   "outputs": [
    {
     "data": {
      "text/plain": [
       "4"
      ]
     },
     "execution_count": 161,
     "metadata": {},
     "output_type": "execute_result"
    }
   ],
   "source": [
    "#To find out the unique entries in the PaymentType column using dataframe[column].unique() or  dataframe[column].nunique()\n",
    "Sales_data['PaymentType'].nunique()"
   ]
  },
  {
   "cell_type": "code",
   "execution_count": 162,
   "id": "d5e9eb2d",
   "metadata": {},
   "outputs": [
    {
     "data": {
      "text/plain": [
       "array(['Debit Card', 'Cash', 'Credit Card', 'Paypal'], dtype=object)"
      ]
     },
     "execution_count": 162,
     "metadata": {},
     "output_type": "execute_result"
    }
   ],
   "source": [
    "Sales_data['PaymentType'].unique()"
   ]
  },
  {
   "cell_type": "markdown",
   "id": "7c461579",
   "metadata": {},
   "source": [
    "To rename the entries in the PaymentType column"
   ]
  },
  {
   "cell_type": "code",
   "execution_count": 170,
   "id": "b3d775f5",
   "metadata": {},
   "outputs": [],
   "source": [
    "Sales_data['PaymentType'].replace({'debit card': 'Debit Card'}, inplace=True)"
   ]
  },
  {
   "cell_type": "code",
   "execution_count": 171,
   "id": "70e7bcde",
   "metadata": {},
   "outputs": [],
   "source": [
    "Sales_data['PaymentType'].replace({'Debit': 'Debit Card'}, inplace=True)"
   ]
  },
  {
   "cell_type": "code",
   "execution_count": 172,
   "id": "0ca91ea1",
   "metadata": {},
   "outputs": [],
   "source": [
    "Sales_data['PaymentType'].replace({'Credit': 'Credit Card'}, inplace=True)"
   ]
  },
  {
   "cell_type": "code",
   "execution_count": 173,
   "id": "000ace04",
   "metadata": {},
   "outputs": [],
   "source": [
    "Sales_data['PaymentType'].replace({'paypal': 'Paypal'}, inplace=True)"
   ]
  },
  {
   "cell_type": "code",
   "execution_count": 174,
   "id": "f9073a3c",
   "metadata": {},
   "outputs": [
    {
     "data": {
      "text/plain": [
       "4"
      ]
     },
     "execution_count": 174,
     "metadata": {},
     "output_type": "execute_result"
    }
   ],
   "source": [
    "Sales_data['PaymentType'].nunique()"
   ]
  },
  {
   "cell_type": "markdown",
   "id": "310b9c8a",
   "metadata": {},
   "source": [
    "\n",
    "To find out the unique entries in the ProductName column\n"
   ]
  },
  {
   "cell_type": "code",
   "execution_count": 176,
   "id": "0dfc71bb",
   "metadata": {},
   "outputs": [
    {
     "data": {
      "text/plain": [
       "array(['Boo E', 'Book J', 'Bok N', 'Book I', 'Book B', 'Book D', 'Book P',\n",
       "       'Book M', 'Book O', 'Book T', 'Book A', 'Book G', 'Book R',\n",
       "       'Book L', 'Book K', 'Book F', 'Bookk H', 'Book S'], dtype=object)"
      ]
     },
     "execution_count": 176,
     "metadata": {},
     "output_type": "execute_result"
    }
   ],
   "source": [
    "Sales_data['ProductName'].unique()"
   ]
  },
  {
   "cell_type": "code",
   "execution_count": 177,
   "id": "9c9fca06",
   "metadata": {},
   "outputs": [
    {
     "data": {
      "text/plain": [
       "18"
      ]
     },
     "execution_count": 177,
     "metadata": {},
     "output_type": "execute_result"
    }
   ],
   "source": [
    "Sales_data['ProductName'].nunique()"
   ]
  },
  {
   "cell_type": "markdown",
   "id": "297f5293",
   "metadata": {},
   "source": [
    "To replace wrongly spelt entries in the ProductName Column"
   ]
  },
  {
   "cell_type": "code",
   "execution_count": 182,
   "id": "9b1eb0c0",
   "metadata": {},
   "outputs": [],
   "source": [
    "Sales_data['ProductName'].replace({'Boo E':'Book E'}, inplace=True)"
   ]
  },
  {
   "cell_type": "code",
   "execution_count": 183,
   "id": "cd81e63b",
   "metadata": {},
   "outputs": [],
   "source": [
    "Sales_data['ProductName'].replace({'Bok N':'Book N'}, inplace=True)"
   ]
  },
  {
   "cell_type": "code",
   "execution_count": 184,
   "id": "dd1879f1",
   "metadata": {},
   "outputs": [],
   "source": [
    "Sales_data['ProductName'].replace({'Bookk S':'Book S'}, inplace=True)"
   ]
  },
  {
   "cell_type": "code",
   "execution_count": 185,
   "id": "c729b673",
   "metadata": {},
   "outputs": [
    {
     "data": {
      "text/plain": [
       "array(['Book E', 'Book J', 'Book N', 'Book I', 'Book B', 'Book D',\n",
       "       'Book P', 'Book M', 'Book O', 'Book T', 'Book A', 'Book G',\n",
       "       'Book R', 'Book L', 'Book K', 'Book F', 'Bookk H', 'Book S'],\n",
       "      dtype=object)"
      ]
     },
     "execution_count": 185,
     "metadata": {},
     "output_type": "execute_result"
    }
   ],
   "source": [
    "Sales_data['ProductName'].unique()"
   ]
  },
  {
   "cell_type": "code",
   "execution_count": 186,
   "id": "e5b1e76b",
   "metadata": {},
   "outputs": [
    {
     "data": {
      "text/html": [
       "<div>\n",
       "<style scoped>\n",
       "    .dataframe tbody tr th:only-of-type {\n",
       "        vertical-align: middle;\n",
       "    }\n",
       "\n",
       "    .dataframe tbody tr th {\n",
       "        vertical-align: top;\n",
       "    }\n",
       "\n",
       "    .dataframe thead th {\n",
       "        text-align: right;\n",
       "    }\n",
       "</style>\n",
       "<table border=\"1\" class=\"dataframe\">\n",
       "  <thead>\n",
       "    <tr style=\"text-align: right;\">\n",
       "      <th></th>\n",
       "      <th>TransactionID</th>\n",
       "      <th>Date</th>\n",
       "      <th>CustomerID</th>\n",
       "      <th>ProductID</th>\n",
       "      <th>ProductName</th>\n",
       "      <th>Quantity</th>\n",
       "      <th>Price</th>\n",
       "      <th>TotalSales</th>\n",
       "      <th>PaymentType</th>\n",
       "      <th>CustomerAge</th>\n",
       "    </tr>\n",
       "  </thead>\n",
       "  <tbody>\n",
       "    <tr>\n",
       "      <th>0</th>\n",
       "      <td>7402</td>\n",
       "      <td>2026-03-17</td>\n",
       "      <td>991</td>\n",
       "      <td>1045</td>\n",
       "      <td>Book E</td>\n",
       "      <td>9</td>\n",
       "      <td>167.72</td>\n",
       "      <td>2935.06</td>\n",
       "      <td>Debit Card</td>\n",
       "      <td>87</td>\n",
       "    </tr>\n",
       "    <tr>\n",
       "      <th>1</th>\n",
       "      <td>5835</td>\n",
       "      <td>2035-01-26</td>\n",
       "      <td>741</td>\n",
       "      <td>1040</td>\n",
       "      <td>Book J</td>\n",
       "      <td>18</td>\n",
       "      <td>193.27</td>\n",
       "      <td>4386.52</td>\n",
       "      <td>Debit Card</td>\n",
       "      <td>69</td>\n",
       "    </tr>\n",
       "    <tr>\n",
       "      <th>2</th>\n",
       "      <td>2123</td>\n",
       "      <td>2035-05-26</td>\n",
       "      <td>933</td>\n",
       "      <td>1062</td>\n",
       "      <td>Book N</td>\n",
       "      <td>5</td>\n",
       "      <td>126.39</td>\n",
       "      <td>1948.46</td>\n",
       "      <td>Cash</td>\n",
       "      <td>15</td>\n",
       "    </tr>\n",
       "    <tr>\n",
       "      <th>3</th>\n",
       "      <td>8789</td>\n",
       "      <td>2036-02-28</td>\n",
       "      <td>641</td>\n",
       "      <td>1060</td>\n",
       "      <td>Book I</td>\n",
       "      <td>6</td>\n",
       "      <td>66.98</td>\n",
       "      <td>1757.26</td>\n",
       "      <td>Cash</td>\n",
       "      <td>22</td>\n",
       "    </tr>\n",
       "    <tr>\n",
       "      <th>4</th>\n",
       "      <td>305</td>\n",
       "      <td>2023-04-19</td>\n",
       "      <td>123</td>\n",
       "      <td>1058</td>\n",
       "      <td>Book B</td>\n",
       "      <td>15</td>\n",
       "      <td>33.63</td>\n",
       "      <td>2578.19</td>\n",
       "      <td>Cash</td>\n",
       "      <td>-1</td>\n",
       "    </tr>\n",
       "    <tr>\n",
       "      <th>5</th>\n",
       "      <td>2532</td>\n",
       "      <td>2032-08-19</td>\n",
       "      <td>185</td>\n",
       "      <td>1090</td>\n",
       "      <td>Book N</td>\n",
       "      <td>12</td>\n",
       "      <td>102.69</td>\n",
       "      <td>488.23</td>\n",
       "      <td>Cash</td>\n",
       "      <td>54</td>\n",
       "    </tr>\n",
       "    <tr>\n",
       "      <th>6</th>\n",
       "      <td>2996</td>\n",
       "      <td>2031-04-03</td>\n",
       "      <td>571</td>\n",
       "      <td>1086</td>\n",
       "      <td>Book D</td>\n",
       "      <td>15</td>\n",
       "      <td>176.27</td>\n",
       "      <td>4822.26</td>\n",
       "      <td>Cash</td>\n",
       "      <td>-4</td>\n",
       "    </tr>\n",
       "    <tr>\n",
       "      <th>7</th>\n",
       "      <td>7660</td>\n",
       "      <td>2031-02-27</td>\n",
       "      <td>172</td>\n",
       "      <td>1012</td>\n",
       "      <td>Book P</td>\n",
       "      <td>12</td>\n",
       "      <td>44.51</td>\n",
       "      <td>4966.85</td>\n",
       "      <td>Cash</td>\n",
       "      <td>82</td>\n",
       "    </tr>\n",
       "    <tr>\n",
       "      <th>8</th>\n",
       "      <td>8225</td>\n",
       "      <td>2026-05-26</td>\n",
       "      <td>342</td>\n",
       "      <td>1098</td>\n",
       "      <td>Book P</td>\n",
       "      <td>11</td>\n",
       "      <td>72.57</td>\n",
       "      <td>4920.76</td>\n",
       "      <td>Debit Card</td>\n",
       "      <td>51</td>\n",
       "    </tr>\n",
       "    <tr>\n",
       "      <th>9</th>\n",
       "      <td>4449</td>\n",
       "      <td>2030-02-05</td>\n",
       "      <td>614</td>\n",
       "      <td>1086</td>\n",
       "      <td>Book M</td>\n",
       "      <td>5</td>\n",
       "      <td>15.67</td>\n",
       "      <td>714.58</td>\n",
       "      <td>Debit Card</td>\n",
       "      <td>95</td>\n",
       "    </tr>\n",
       "  </tbody>\n",
       "</table>\n",
       "</div>"
      ],
      "text/plain": [
       "   TransactionID       Date  CustomerID  ProductID ProductName  Quantity  \\\n",
       "0           7402 2026-03-17         991       1045      Book E         9   \n",
       "1           5835 2035-01-26         741       1040      Book J        18   \n",
       "2           2123 2035-05-26         933       1062      Book N         5   \n",
       "3           8789 2036-02-28         641       1060      Book I         6   \n",
       "4            305 2023-04-19         123       1058      Book B        15   \n",
       "5           2532 2032-08-19         185       1090      Book N        12   \n",
       "6           2996 2031-04-03         571       1086      Book D        15   \n",
       "7           7660 2031-02-27         172       1012      Book P        12   \n",
       "8           8225 2026-05-26         342       1098      Book P        11   \n",
       "9           4449 2030-02-05         614       1086      Book M         5   \n",
       "\n",
       "    Price  TotalSales PaymentType  CustomerAge  \n",
       "0  167.72     2935.06  Debit Card           87  \n",
       "1  193.27     4386.52  Debit Card           69  \n",
       "2  126.39     1948.46        Cash           15  \n",
       "3   66.98     1757.26        Cash           22  \n",
       "4   33.63     2578.19        Cash           -1  \n",
       "5  102.69      488.23        Cash           54  \n",
       "6  176.27     4822.26        Cash           -4  \n",
       "7   44.51     4966.85        Cash           82  \n",
       "8   72.57     4920.76  Debit Card           51  \n",
       "9   15.67      714.58  Debit Card           95  "
      ]
     },
     "execution_count": 186,
     "metadata": {},
     "output_type": "execute_result"
    }
   ],
   "source": [
    "Sales_data.head(10)"
   ]
  },
  {
   "cell_type": "code",
   "execution_count": null,
   "id": "f24d5856",
   "metadata": {},
   "outputs": [],
   "source": []
  }
 ],
 "metadata": {
  "kernelspec": {
   "display_name": "Python 3 (ipykernel)",
   "language": "python",
   "name": "python3"
  },
  "language_info": {
   "codemirror_mode": {
    "name": "ipython",
    "version": 3
   },
   "file_extension": ".py",
   "mimetype": "text/x-python",
   "name": "python",
   "nbconvert_exporter": "python",
   "pygments_lexer": "ipython3",
   "version": "3.11.5"
  }
 },
 "nbformat": 4,
 "nbformat_minor": 5
}
